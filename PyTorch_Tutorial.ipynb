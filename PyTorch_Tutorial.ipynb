{
  "nbformat": 4,
  "nbformat_minor": 0,
  "metadata": {
    "colab": {
      "provenance": [],
      "authorship_tag": "ABX9TyNaSMHBihFwdVNF6kgoqEcu"
    },
    "kernelspec": {
      "name": "python3",
      "display_name": "Python 3"
    },
    "language_info": {
      "name": "python"
    }
  },
  "cells": [
    {
      "cell_type": "code",
      "execution_count": 1,
      "metadata": {
        "id": "PfxmK4z3HXhV"
      },
      "outputs": [],
      "source": [
        "import torch"
      ]
    },
    {
      "cell_type": "code",
      "source": [
        "torch.__version__"
      ],
      "metadata": {
        "colab": {
          "base_uri": "https://localhost:8080/",
          "height": 35
        },
        "id": "gbMo5IzzHoUH",
        "outputId": "06535db1-acfa-4f08-e7a2-a8253223a44c"
      },
      "execution_count": 2,
      "outputs": [
        {
          "output_type": "execute_result",
          "data": {
            "text/plain": [
              "'2.5.1+cu124'"
            ],
            "application/vnd.google.colaboratory.intrinsic+json": {
              "type": "string"
            }
          },
          "metadata": {},
          "execution_count": 2
        }
      ]
    },
    {
      "cell_type": "markdown",
      "source": [
        "**Tensors**"
      ],
      "metadata": {
        "id": "GSTMC8gkHrki"
      }
    },
    {
      "cell_type": "markdown",
      "source": [
        "# Creating Tensors"
      ],
      "metadata": {
        "id": "_7d7JjnuHwLX"
      }
    },
    {
      "cell_type": "code",
      "source": [
        "#scalar - tensor with zero dimension\n",
        "tensor0 = torch.tensor(1)\n",
        "tensor0"
      ],
      "metadata": {
        "colab": {
          "base_uri": "https://localhost:8080/"
        },
        "id": "7Jueu6Y2HzJq",
        "outputId": "cc53b393-f742-4bc3-8e15-d44ca50dfc71"
      },
      "execution_count": 3,
      "outputs": [
        {
          "output_type": "execute_result",
          "data": {
            "text/plain": [
              "tensor(1)"
            ]
          },
          "metadata": {},
          "execution_count": 3
        }
      ]
    },
    {
      "cell_type": "code",
      "source": [
        "tensor0.ndim"
      ],
      "metadata": {
        "colab": {
          "base_uri": "https://localhost:8080/"
        },
        "id": "I1vuGV1KH8ip",
        "outputId": "c1beae44-c656-43dd-faa3-02ad51d7b479"
      },
      "execution_count": 4,
      "outputs": [
        {
          "output_type": "execute_result",
          "data": {
            "text/plain": [
              "0"
            ]
          },
          "metadata": {},
          "execution_count": 4
        }
      ]
    },
    {
      "cell_type": "code",
      "source": [
        "#vector - tensor with one dimension\n",
        "tensor1 = torch.tensor([6,8,0,1,2])\n",
        "tensor1"
      ],
      "metadata": {
        "colab": {
          "base_uri": "https://localhost:8080/"
        },
        "id": "UmOd11GSIHOL",
        "outputId": "342d9420-9a46-498d-991a-5ae9d9edb1c0"
      },
      "execution_count": 5,
      "outputs": [
        {
          "output_type": "execute_result",
          "data": {
            "text/plain": [
              "tensor([6, 8, 0, 1, 2])"
            ]
          },
          "metadata": {},
          "execution_count": 5
        }
      ]
    },
    {
      "cell_type": "code",
      "source": [
        "tensor1.ndim"
      ],
      "metadata": {
        "colab": {
          "base_uri": "https://localhost:8080/"
        },
        "id": "pNK6s2hhIHpl",
        "outputId": "f0cd6306-347e-48d7-8d2d-c08cc263c8e5"
      },
      "execution_count": 6,
      "outputs": [
        {
          "output_type": "execute_result",
          "data": {
            "text/plain": [
              "1"
            ]
          },
          "metadata": {},
          "execution_count": 6
        }
      ]
    },
    {
      "cell_type": "code",
      "source": [
        "#matrix - tensor with two dimension\n",
        "tensor2 = torch.tensor([[0,1,7],[4,2,4]])\n",
        "tensor2"
      ],
      "metadata": {
        "colab": {
          "base_uri": "https://localhost:8080/"
        },
        "id": "atu-O-XHIXnN",
        "outputId": "08bc614d-eb36-4e90-e08b-73186b6a9f6d"
      },
      "execution_count": 7,
      "outputs": [
        {
          "output_type": "execute_result",
          "data": {
            "text/plain": [
              "tensor([[0, 1, 7],\n",
              "        [4, 2, 4]])"
            ]
          },
          "metadata": {},
          "execution_count": 7
        }
      ]
    },
    {
      "cell_type": "code",
      "source": [
        "tensor2.ndim"
      ],
      "metadata": {
        "colab": {
          "base_uri": "https://localhost:8080/"
        },
        "id": "Mf14qD3GIq_k",
        "outputId": "b49b126e-24d7-42ed-a48d-9f40c7433cea"
      },
      "execution_count": 8,
      "outputs": [
        {
          "output_type": "execute_result",
          "data": {
            "text/plain": [
              "2"
            ]
          },
          "metadata": {},
          "execution_count": 8
        }
      ]
    },
    {
      "cell_type": "code",
      "source": [
        "#Dimesion and shape of tensor\n",
        "print(f'vector:\\n{tensor1}\\tNo. of dimesion: {tensor1.ndim}\\tShape: {tensor1.shape}\\n')\n",
        "print(f'vector:\\n{tensor2}\\tNo. of dimesion: {tensor2.dim()}\\tShape: {tensor2.size()}\\n')"
      ],
      "metadata": {
        "colab": {
          "base_uri": "https://localhost:8080/"
        },
        "id": "VwVFsoCcIujo",
        "outputId": "f336493b-86e3-4e78-c344-380017eaa812"
      },
      "execution_count": 9,
      "outputs": [
        {
          "output_type": "stream",
          "name": "stdout",
          "text": [
            "vector:\n",
            "tensor([6, 8, 0, 1, 2])\tNo. of dimesion: 1\tShape: torch.Size([5])\n",
            "\n",
            "vector:\n",
            "tensor([[0, 1, 7],\n",
            "        [4, 2, 4]])\tNo. of dimesion: 2\tShape: torch.Size([2, 3])\n",
            "\n"
          ]
        }
      ]
    },
    {
      "cell_type": "code",
      "source": [
        "#Alternate ways\n",
        "size = (3,4)\n",
        "\n",
        "tensor4 = torch.empty(size)\n",
        "tensor4"
      ],
      "metadata": {
        "colab": {
          "base_uri": "https://localhost:8080/"
        },
        "id": "hbxWch3lJZ0i",
        "outputId": "016abcbe-3cc2-46fa-d6e3-3a2ac5b76ec3"
      },
      "execution_count": 10,
      "outputs": [
        {
          "output_type": "execute_result",
          "data": {
            "text/plain": [
              "tensor([[0., 0., 0., 0.],\n",
              "        [0., 0., 0., 0.],\n",
              "        [0., 0., 0., 0.]])"
            ]
          },
          "metadata": {},
          "execution_count": 10
        }
      ]
    },
    {
      "cell_type": "code",
      "source": [
        "tensor5 = torch.rand(size)\n",
        "tensor5"
      ],
      "metadata": {
        "colab": {
          "base_uri": "https://localhost:8080/"
        },
        "id": "QijM78KYKLQ5",
        "outputId": "7cd75352-e92e-4018-d5cb-7d3a345fd41d"
      },
      "execution_count": 11,
      "outputs": [
        {
          "output_type": "execute_result",
          "data": {
            "text/plain": [
              "tensor([[0.8173, 0.6394, 0.5290, 0.3659],\n",
              "        [0.5686, 0.7240, 0.0076, 0.0963],\n",
              "        [0.7853, 0.4981, 0.2214, 0.1926]])"
            ]
          },
          "metadata": {},
          "execution_count": 11
        }
      ]
    },
    {
      "cell_type": "code",
      "source": [
        "tensor6 = torch.ones(size)\n",
        "tensor6"
      ],
      "metadata": {
        "colab": {
          "base_uri": "https://localhost:8080/"
        },
        "id": "hKGfmc6qKUY7",
        "outputId": "1db4e2df-b8f7-4e76-c6ce-c36a1455f351"
      },
      "execution_count": 12,
      "outputs": [
        {
          "output_type": "execute_result",
          "data": {
            "text/plain": [
              "tensor([[1., 1., 1., 1.],\n",
              "        [1., 1., 1., 1.],\n",
              "        [1., 1., 1., 1.]])"
            ]
          },
          "metadata": {},
          "execution_count": 12
        }
      ]
    },
    {
      "cell_type": "code",
      "source": [
        "tensor7 = torch.zeros(size)\n",
        "tensor7"
      ],
      "metadata": {
        "colab": {
          "base_uri": "https://localhost:8080/"
        },
        "id": "fSvCV9_qKaZz",
        "outputId": "73e86d52-0b74-460f-d745-d6c94151f673"
      },
      "execution_count": 13,
      "outputs": [
        {
          "output_type": "execute_result",
          "data": {
            "text/plain": [
              "tensor([[0., 0., 0., 0.],\n",
              "        [0., 0., 0., 0.],\n",
              "        [0., 0., 0., 0.]])"
            ]
          },
          "metadata": {},
          "execution_count": 13
        }
      ]
    },
    {
      "cell_type": "code",
      "source": [
        "#Check datatype of a tensor\n",
        "tensor4 = torch.rand(1,2)\n",
        "print(tensor4)\n",
        "tensor4.dtype      #attribute"
      ],
      "metadata": {
        "colab": {
          "base_uri": "https://localhost:8080/"
        },
        "id": "7HSZyHcaKpzF",
        "outputId": "3b646784-55da-4d23-c64a-c260d2632fa8"
      },
      "execution_count": 14,
      "outputs": [
        {
          "output_type": "stream",
          "name": "stdout",
          "text": [
            "tensor([[0.0989, 0.4446]])\n"
          ]
        },
        {
          "output_type": "execute_result",
          "data": {
            "text/plain": [
              "torch.float32"
            ]
          },
          "metadata": {},
          "execution_count": 14
        }
      ]
    },
    {
      "cell_type": "code",
      "source": [
        "#Create a tensor with specific datatype\n",
        "tensor5 = torch.rand(1,2, dtype=torch.float16)\n",
        "print(tensor5)"
      ],
      "metadata": {
        "colab": {
          "base_uri": "https://localhost:8080/"
        },
        "id": "F7WB2C0hK52S",
        "outputId": "cee9197a-33f6-4833-a519-84bae4992f0f"
      },
      "execution_count": 15,
      "outputs": [
        {
          "output_type": "stream",
          "name": "stdout",
          "text": [
            "tensor([[0.4663, 0.7837]], dtype=torch.float16)\n"
          ]
        }
      ]
    },
    {
      "cell_type": "code",
      "source": [
        "#Changing the datatype of tensor\n",
        "tensor4.type(torch.double)"
      ],
      "metadata": {
        "colab": {
          "base_uri": "https://localhost:8080/"
        },
        "id": "kXrgIJTHLLuz",
        "outputId": "4f14dc95-6941-4a2e-9f35-f9c4326f9deb"
      },
      "execution_count": 16,
      "outputs": [
        {
          "output_type": "execute_result",
          "data": {
            "text/plain": [
              "tensor([[0.0989, 0.4446]], dtype=torch.float64)"
            ]
          },
          "metadata": {},
          "execution_count": 16
        }
      ]
    },
    {
      "cell_type": "code",
      "source": [
        "#Create a tensor from numpy array\n",
        "import numpy as np\n",
        "example_array = np.array([[9,3],[0,4]])\n",
        "\n",
        "tensor8 = torch.from_numpy(example_array) # this will share the same memory of example array\n",
        "\n",
        "tensor9 = torch.tensor(example_array)\n",
        "\n",
        "print(example_array)\n",
        "print(tensor8)\n",
        "print(tensor9)\n"
      ],
      "metadata": {
        "colab": {
          "base_uri": "https://localhost:8080/"
        },
        "id": "cZJbfVVmLftt",
        "outputId": "c583d61d-b6be-4f4f-ada7-fcc710d822ae"
      },
      "execution_count": 17,
      "outputs": [
        {
          "output_type": "stream",
          "name": "stdout",
          "text": [
            "[[9 3]\n",
            " [0 4]]\n",
            "tensor([[9, 3],\n",
            "        [0, 4]])\n",
            "tensor([[9, 3],\n",
            "        [0, 4]])\n"
          ]
        }
      ]
    },
    {
      "cell_type": "code",
      "source": [
        "example_array *= 3\n",
        "\n",
        "print(example_array)\n",
        "print(tensor8)\n",
        "print(tensor9)"
      ],
      "metadata": {
        "colab": {
          "base_uri": "https://localhost:8080/"
        },
        "id": "3Q_d4KdFMZMe",
        "outputId": "3e59df59-844f-457a-9fe4-4cf4887e0b4b"
      },
      "execution_count": 18,
      "outputs": [
        {
          "output_type": "stream",
          "name": "stdout",
          "text": [
            "[[27  9]\n",
            " [ 0 12]]\n",
            "tensor([[27,  9],\n",
            "        [ 0, 12]])\n",
            "tensor([[9, 3],\n",
            "        [0, 4]])\n"
          ]
        }
      ]
    },
    {
      "cell_type": "code",
      "source": [
        "## Creating a tensor from another tensor\n",
        "tensor10 = torch.ones_like(tensor8)\n",
        "tensor10"
      ],
      "metadata": {
        "colab": {
          "base_uri": "https://localhost:8080/"
        },
        "id": "x-hVZm2_MiKR",
        "outputId": "7241179a-69d7-469b-d449-705c9c18ceb0"
      },
      "execution_count": 19,
      "outputs": [
        {
          "output_type": "execute_result",
          "data": {
            "text/plain": [
              "tensor([[1, 1],\n",
              "        [1, 1]])"
            ]
          },
          "metadata": {},
          "execution_count": 19
        }
      ]
    },
    {
      "cell_type": "code",
      "source": [
        "# Device cofiguration\n",
        "device = torch.device('cuda' if torch.cuda.is_available() else 'cpu')\n",
        "\n",
        "tensor11 = torch.ones(3,7).to(device) # first created on cpu then moved to gpu if available\n",
        "# can explicitely mention \"cpu\" or \"cuda\"\n",
        "\n",
        "tensor11 = torch.zeros(3,7, device=device) # directly define the device to directly create there"
      ],
      "metadata": {
        "id": "IEqHbtfMM7mJ"
      },
      "execution_count": 20,
      "outputs": []
    },
    {
      "cell_type": "markdown",
      "source": [
        "# Accessing elements in a tensor"
      ],
      "metadata": {
        "id": "vCcZm-XpOTJV"
      }
    },
    {
      "cell_type": "code",
      "source": [
        "tensor2"
      ],
      "metadata": {
        "colab": {
          "base_uri": "https://localhost:8080/"
        },
        "id": "-xmtQpgBOSSO",
        "outputId": "da88e8ed-fef5-461e-cbd5-e4f387b881b0"
      },
      "execution_count": 21,
      "outputs": [
        {
          "output_type": "execute_result",
          "data": {
            "text/plain": [
              "tensor([[0, 1, 7],\n",
              "        [4, 2, 4]])"
            ]
          },
          "metadata": {},
          "execution_count": 21
        }
      ]
    },
    {
      "cell_type": "code",
      "source": [
        "tensor2.dim()"
      ],
      "metadata": {
        "colab": {
          "base_uri": "https://localhost:8080/"
        },
        "id": "Uem3Fzx2OyNq",
        "outputId": "fd790f4f-ae31-47f7-ce30-193fdf80c435"
      },
      "execution_count": 22,
      "outputs": [
        {
          "output_type": "execute_result",
          "data": {
            "text/plain": [
              "2"
            ]
          },
          "metadata": {},
          "execution_count": 22
        }
      ]
    },
    {
      "cell_type": "code",
      "source": [
        "tensor2.shape"
      ],
      "metadata": {
        "colab": {
          "base_uri": "https://localhost:8080/"
        },
        "id": "sMW_YloAO5rM",
        "outputId": "bd696167-7c2f-467d-eb55-f22e5ec30026"
      },
      "execution_count": 23,
      "outputs": [
        {
          "output_type": "execute_result",
          "data": {
            "text/plain": [
              "torch.Size([2, 3])"
            ]
          },
          "metadata": {},
          "execution_count": 23
        }
      ]
    },
    {
      "cell_type": "code",
      "source": [
        "tensor2[0]"
      ],
      "metadata": {
        "colab": {
          "base_uri": "https://localhost:8080/"
        },
        "id": "-1RI3nS4PE4F",
        "outputId": "9ff88b46-ffe5-4be1-eb2c-0183fa0e1b45"
      },
      "execution_count": 24,
      "outputs": [
        {
          "output_type": "execute_result",
          "data": {
            "text/plain": [
              "tensor([0, 1, 7])"
            ]
          },
          "metadata": {},
          "execution_count": 24
        }
      ]
    },
    {
      "cell_type": "code",
      "source": [
        "tensor2[1,0]"
      ],
      "metadata": {
        "colab": {
          "base_uri": "https://localhost:8080/"
        },
        "id": "kL6Ln9XkPMM_",
        "outputId": "916b14c4-bd61-43b0-b89f-9a6df4a1d504"
      },
      "execution_count": 25,
      "outputs": [
        {
          "output_type": "execute_result",
          "data": {
            "text/plain": [
              "tensor(4)"
            ]
          },
          "metadata": {},
          "execution_count": 25
        }
      ]
    },
    {
      "cell_type": "code",
      "source": [
        "# Slicing\n",
        "tensor2[:,2] # This will give us all rows on only column 2"
      ],
      "metadata": {
        "colab": {
          "base_uri": "https://localhost:8080/"
        },
        "id": "Y6oYOugqPSWt",
        "outputId": "91a63e41-5577-47cf-8a5b-773aca594a99"
      },
      "execution_count": 26,
      "outputs": [
        {
          "output_type": "execute_result",
          "data": {
            "text/plain": [
              "tensor([7, 4])"
            ]
          },
          "metadata": {},
          "execution_count": 26
        }
      ]
    },
    {
      "cell_type": "code",
      "source": [
        "tensor2[0,:] # This will give only row 0 with all columns"
      ],
      "metadata": {
        "colab": {
          "base_uri": "https://localhost:8080/"
        },
        "id": "iqi2COFqPnd4",
        "outputId": "c3923233-74f1-43b7-9ea4-f0ddea582393"
      },
      "execution_count": 27,
      "outputs": [
        {
          "output_type": "execute_result",
          "data": {
            "text/plain": [
              "tensor([0, 1, 7])"
            ]
          },
          "metadata": {},
          "execution_count": 27
        }
      ]
    },
    {
      "cell_type": "markdown",
      "source": [
        "# Basic Tensor Operation"
      ],
      "metadata": {
        "id": "1WGYTV0kPygk"
      }
    },
    {
      "cell_type": "code",
      "source": [
        "tensor12 = torch.ones(2,3)\n",
        "tensor13 = torch.rand(2,3)\n",
        "\n",
        "print(tensor12)\n",
        "print(tensor13)"
      ],
      "metadata": {
        "colab": {
          "base_uri": "https://localhost:8080/"
        },
        "id": "JYMdk3FSP2N0",
        "outputId": "54c70f74-d043-4ed2-c36a-f732834b6d18"
      },
      "execution_count": 28,
      "outputs": [
        {
          "output_type": "stream",
          "name": "stdout",
          "text": [
            "tensor([[1., 1., 1.],\n",
            "        [1., 1., 1.]])\n",
            "tensor([[0.6300, 0.9282, 0.5058],\n",
            "        [0.8285, 0.6815, 0.4693]])\n"
          ]
        }
      ]
    },
    {
      "cell_type": "code",
      "source": [
        "# elementwise addition\n",
        "tensor14 = tensor12 + tensor13\n",
        "# torch.add(tensor12,tensor13)\n",
        "print(tensor14)"
      ],
      "metadata": {
        "colab": {
          "base_uri": "https://localhost:8080/"
        },
        "id": "D38IrZQMQMuo",
        "outputId": "46439ee4-f1a8-4842-e640-01a32a544434"
      },
      "execution_count": 29,
      "outputs": [
        {
          "output_type": "stream",
          "name": "stdout",
          "text": [
            "tensor([[1.6300, 1.9282, 1.5058],\n",
            "        [1.8285, 1.6815, 1.4693]])\n"
          ]
        }
      ]
    },
    {
      "cell_type": "code",
      "source": [
        "# elementwise subtraction\n",
        "tensor15 = tensor12 - tensor13\n",
        "# torch.sub(tensor12, tensor13)\n",
        "print(tensor15)"
      ],
      "metadata": {
        "colab": {
          "base_uri": "https://localhost:8080/"
        },
        "id": "KKMCH3M7Qeqa",
        "outputId": "3f974837-095f-4249-8fbe-fd235a040a18"
      },
      "execution_count": 30,
      "outputs": [
        {
          "output_type": "stream",
          "name": "stdout",
          "text": [
            "tensor([[0.3700, 0.0718, 0.4942],\n",
            "        [0.1715, 0.3185, 0.5307]])\n"
          ]
        }
      ]
    },
    {
      "cell_type": "code",
      "source": [
        "# elementwise multiplication\n",
        "tensor16 = tensor12 * tensor13\n",
        "# torch.mul(tensor12, tensor13)\n",
        "print(tensor16)"
      ],
      "metadata": {
        "colab": {
          "base_uri": "https://localhost:8080/"
        },
        "id": "zpBxgi4SQywu",
        "outputId": "c7cd48b0-3b83-474e-b92a-56d959e64da9"
      },
      "execution_count": 31,
      "outputs": [
        {
          "output_type": "stream",
          "name": "stdout",
          "text": [
            "tensor([[0.6300, 0.9282, 0.5058],\n",
            "        [0.8285, 0.6815, 0.4693]])\n"
          ]
        }
      ]
    },
    {
      "cell_type": "code",
      "source": [
        "# elementwise division\n",
        "tensor17 = tensor12 / tensor13\n",
        "# torch.div(tensor12, tensor13)\n",
        "print(tensor17)"
      ],
      "metadata": {
        "colab": {
          "base_uri": "https://localhost:8080/"
        },
        "id": "jfIrplSqQ9_a",
        "outputId": "66d6f9a0-327e-4668-8f89-97bf056d0e00"
      },
      "execution_count": 32,
      "outputs": [
        {
          "output_type": "stream",
          "name": "stdout",
          "text": [
            "tensor([[1.5872, 1.0774, 1.9772],\n",
            "        [1.2071, 1.4673, 2.1307]])\n"
          ]
        }
      ]
    },
    {
      "cell_type": "markdown",
      "source": [
        "# Manipulating a tensor"
      ],
      "metadata": {
        "id": "LvKcomj0RM9H"
      }
    },
    {
      "cell_type": "code",
      "source": [
        "x = torch.randint(0,3, (4,5)) #0,3 -> specify range of integer\n",
        "# 4,5 -> size of tensor\n",
        "x"
      ],
      "metadata": {
        "colab": {
          "base_uri": "https://localhost:8080/"
        },
        "id": "oMHS1Mm5RN4R",
        "outputId": "c250c943-0d62-470a-ea79-9bde3bdb056c"
      },
      "execution_count": 33,
      "outputs": [
        {
          "output_type": "execute_result",
          "data": {
            "text/plain": [
              "tensor([[0, 0, 0, 0, 2],\n",
              "        [2, 2, 1, 0, 1],\n",
              "        [0, 2, 2, 2, 0],\n",
              "        [2, 0, 2, 0, 0]])"
            ]
          },
          "metadata": {},
          "execution_count": 33
        }
      ]
    },
    {
      "cell_type": "code",
      "source": [
        "y = x.view(20) # shape to be 20\n",
        "\n",
        "z = x.view(-1,10) # in first dimension we want 10 element\n",
        "#-1 help to determine automatically how much elements should be in 0th dimension\n",
        "\n",
        "# all tensor share same memory space - > any change in x will change y,z"
      ],
      "metadata": {
        "id": "OGgtWaoHRd5W"
      },
      "execution_count": 34,
      "outputs": []
    },
    {
      "cell_type": "code",
      "source": [
        "print(x.size(), y.size(), z.size())"
      ],
      "metadata": {
        "colab": {
          "base_uri": "https://localhost:8080/"
        },
        "id": "sklz2lNeR_Sl",
        "outputId": "1663dc5b-4285-4b02-a613-c8ca1a8ddf86"
      },
      "execution_count": 35,
      "outputs": [
        {
          "output_type": "stream",
          "name": "stdout",
          "text": [
            "torch.Size([4, 5]) torch.Size([20]) torch.Size([2, 10])\n"
          ]
        }
      ]
    },
    {
      "cell_type": "code",
      "source": [
        "a = torch.arange(9) # 1d tensor in created from 0 to 8\n",
        "\n",
        "# reshape sometimes create a new tensor copy and sometimes uses same memeory\n",
        "a = a.reshape(3,3)\n",
        "a"
      ],
      "metadata": {
        "colab": {
          "base_uri": "https://localhost:8080/"
        },
        "id": "RD-dk6kcStXn",
        "outputId": "ba703c11-8aa9-474c-b897-de4bfda1af07"
      },
      "execution_count": 36,
      "outputs": [
        {
          "output_type": "execute_result",
          "data": {
            "text/plain": [
              "tensor([[0, 1, 2],\n",
              "        [3, 4, 5],\n",
              "        [6, 7, 8]])"
            ]
          },
          "metadata": {},
          "execution_count": 36
        }
      ]
    },
    {
      "cell_type": "code",
      "source": [
        "b = torch.randint(0,9, (3,3)) ## torch.randint(low=0, high, size)\n",
        "b"
      ],
      "metadata": {
        "colab": {
          "base_uri": "https://localhost:8080/"
        },
        "id": "RaV3WfECTJ7P",
        "outputId": "802b9290-3b85-45cf-a8f2-e9cbf2c78714"
      },
      "execution_count": 37,
      "outputs": [
        {
          "output_type": "execute_result",
          "data": {
            "text/plain": [
              "tensor([[3, 0, 7],\n",
              "        [6, 6, 8],\n",
              "        [7, 1, 6]])"
            ]
          },
          "metadata": {},
          "execution_count": 37
        }
      ]
    },
    {
      "cell_type": "code",
      "source": [
        "c = torch.cat((a,b), dim=1) # cat along dimesion 1 means col wise\n",
        "c"
      ],
      "metadata": {
        "colab": {
          "base_uri": "https://localhost:8080/"
        },
        "id": "HfrwG3-oTXHb",
        "outputId": "3a674d52-9717-49b6-fd05-f60803280b55"
      },
      "execution_count": 38,
      "outputs": [
        {
          "output_type": "execute_result",
          "data": {
            "text/plain": [
              "tensor([[0, 1, 2, 3, 0, 7],\n",
              "        [3, 4, 5, 6, 6, 8],\n",
              "        [6, 7, 8, 7, 1, 6]])"
            ]
          },
          "metadata": {},
          "execution_count": 38
        }
      ]
    },
    {
      "cell_type": "code",
      "source": [
        "d = torch.cat((a,b), dim=0)\n",
        "d"
      ],
      "metadata": {
        "colab": {
          "base_uri": "https://localhost:8080/"
        },
        "id": "CsL8l7UETYLE",
        "outputId": "0e5beae9-928a-4e46-a2d6-0efb98eb0cb6"
      },
      "execution_count": 39,
      "outputs": [
        {
          "output_type": "execute_result",
          "data": {
            "text/plain": [
              "tensor([[0, 1, 2],\n",
              "        [3, 4, 5],\n",
              "        [6, 7, 8],\n",
              "        [3, 0, 7],\n",
              "        [6, 6, 8],\n",
              "        [7, 1, 6]])"
            ]
          },
          "metadata": {},
          "execution_count": 39
        }
      ]
    },
    {
      "cell_type": "code",
      "source": [
        "p = torch.randint(0,9,(2,3,5))\n",
        "p"
      ],
      "metadata": {
        "colab": {
          "base_uri": "https://localhost:8080/"
        },
        "id": "rZ8ZP9cbUtek",
        "outputId": "e0723c40-0b8d-4593-db65-493082fbc139"
      },
      "execution_count": 40,
      "outputs": [
        {
          "output_type": "execute_result",
          "data": {
            "text/plain": [
              "tensor([[[5, 0, 6, 6, 5],\n",
              "         [7, 1, 5, 3, 0],\n",
              "         [2, 1, 3, 6, 2]],\n",
              "\n",
              "        [[7, 1, 6, 5, 0],\n",
              "         [2, 6, 8, 3, 7],\n",
              "         [7, 8, 5, 8, 2]]])"
            ]
          },
          "metadata": {},
          "execution_count": 40
        }
      ]
    },
    {
      "cell_type": "code",
      "source": [
        "p.sum()"
      ],
      "metadata": {
        "colab": {
          "base_uri": "https://localhost:8080/"
        },
        "id": "tOmx3sdgVBDF",
        "outputId": "679bb968-f637-4972-fcb1-21ad4372638c"
      },
      "execution_count": 41,
      "outputs": [
        {
          "output_type": "execute_result",
          "data": {
            "text/plain": [
              "tensor(127)"
            ]
          },
          "metadata": {},
          "execution_count": 41
        }
      ]
    },
    {
      "cell_type": "code",
      "source": [
        "p.sum(dim=0) # means the outermost dimension i.e 2 here # means 4+6 then 5+1..."
      ],
      "metadata": {
        "colab": {
          "base_uri": "https://localhost:8080/"
        },
        "id": "myRgKuDXVI0O",
        "outputId": "84769dd8-630a-4dcd-da82-64f04dfe9203"
      },
      "execution_count": 42,
      "outputs": [
        {
          "output_type": "execute_result",
          "data": {
            "text/plain": [
              "tensor([[12,  1, 12, 11,  5],\n",
              "        [ 9,  7, 13,  6,  7],\n",
              "        [ 9,  9,  8, 14,  4]])"
            ]
          },
          "metadata": {},
          "execution_count": 42
        }
      ]
    },
    {
      "cell_type": "code",
      "source": [
        "p.sum(dim = 0).shape"
      ],
      "metadata": {
        "colab": {
          "base_uri": "https://localhost:8080/"
        },
        "id": "soZu1FIYV2Kq",
        "outputId": "98a5ed8b-5aaa-4377-9836-6ca7c667e99a"
      },
      "execution_count": 43,
      "outputs": [
        {
          "output_type": "execute_result",
          "data": {
            "text/plain": [
              "torch.Size([3, 5])"
            ]
          },
          "metadata": {},
          "execution_count": 43
        }
      ]
    },
    {
      "cell_type": "markdown",
      "source": [
        "# Autograd![Screenshot 2025-02-04 151840.png](data:image/png;base64,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)"
      ],
      "metadata": {
        "id": "WPnMmYQXWowb"
      }
    },
    {
      "cell_type": "code",
      "source": [
        "import torch\n",
        "\n",
        "x = torch.tensor(2.0)\n",
        "x.requires_grad,x.is_leaf"
      ],
      "metadata": {
        "colab": {
          "base_uri": "https://localhost:8080/"
        },
        "id": "WYshg0hfWp3t",
        "outputId": "51e3dc9e-ca29-401f-90be-a49ac9ed6c89"
      },
      "execution_count": 44,
      "outputs": [
        {
          "output_type": "execute_result",
          "data": {
            "text/plain": [
              "(False, True)"
            ]
          },
          "metadata": {},
          "execution_count": 44
        }
      ]
    },
    {
      "cell_type": "code",
      "source": [
        "y = 3 * torch.sigmoid(x) + 5\n",
        "y.requires_grad,y.is_leaf"
      ],
      "metadata": {
        "colab": {
          "base_uri": "https://localhost:8080/"
        },
        "id": "MJj5dnvEbmbS",
        "outputId": "a8a51432-e71d-477f-d3cf-c072eb78eaa3"
      },
      "execution_count": 45,
      "outputs": [
        {
          "output_type": "execute_result",
          "data": {
            "text/plain": [
              "(False, True)"
            ]
          },
          "metadata": {},
          "execution_count": 45
        }
      ]
    },
    {
      "cell_type": "code",
      "source": [
        "import torch\n",
        "\n",
        "x = torch.tensor(2.0, requires_grad= True)\n",
        "\n",
        "x.requires_grad,x.is_leaf"
      ],
      "metadata": {
        "colab": {
          "base_uri": "https://localhost:8080/"
        },
        "id": "ywickVQVb5cb",
        "outputId": "e7e12086-10f0-47fa-f36f-2824f6d1bb6a"
      },
      "execution_count": 46,
      "outputs": [
        {
          "output_type": "execute_result",
          "data": {
            "text/plain": [
              "(True, True)"
            ]
          },
          "metadata": {},
          "execution_count": 46
        }
      ]
    },
    {
      "cell_type": "code",
      "source": [
        "y = 3 * torch.sigmoid(x) + 5\n",
        "y"
      ],
      "metadata": {
        "colab": {
          "base_uri": "https://localhost:8080/"
        },
        "id": "BeE0Qeq4glt-",
        "outputId": "0d217228-52de-4fa0-ebc4-16e9ae9f0ca8"
      },
      "execution_count": 47,
      "outputs": [
        {
          "output_type": "execute_result",
          "data": {
            "text/plain": [
              "tensor(7.6424, grad_fn=<AddBackward0>)"
            ]
          },
          "metadata": {},
          "execution_count": 47
        }
      ]
    },
    {
      "cell_type": "code",
      "source": [
        "y.requires_grad,y.is_leaf"
      ],
      "metadata": {
        "colab": {
          "base_uri": "https://localhost:8080/"
        },
        "id": "LWUvL_Ieg2By",
        "outputId": "fb4b7602-5dcf-4668-98b7-78b7b268dd62"
      },
      "execution_count": 48,
      "outputs": [
        {
          "output_type": "execute_result",
          "data": {
            "text/plain": [
              "(True, False)"
            ]
          },
          "metadata": {},
          "execution_count": 48
        }
      ]
    },
    {
      "cell_type": "code",
      "source": [
        "print(x.grad_fn)"
      ],
      "metadata": {
        "colab": {
          "base_uri": "https://localhost:8080/"
        },
        "id": "Z9eOlmbjg97G",
        "outputId": "78228783-68c5-4b01-fffe-a99d2c5b153d"
      },
      "execution_count": 49,
      "outputs": [
        {
          "output_type": "stream",
          "name": "stdout",
          "text": [
            "None\n"
          ]
        }
      ]
    },
    {
      "cell_type": "code",
      "source": [
        "print(y.grad_fn)"
      ],
      "metadata": {
        "colab": {
          "base_uri": "https://localhost:8080/"
        },
        "id": "-JMnTGpGhVb3",
        "outputId": "b17aebcb-1433-4105-ead0-43fc85a983f3"
      },
      "execution_count": 50,
      "outputs": [
        {
          "output_type": "stream",
          "name": "stdout",
          "text": [
            "<AddBackward0 object at 0x7befb5584af0>\n"
          ]
        }
      ]
    },
    {
      "cell_type": "code",
      "source": [
        "print(x.grad)\n",
        "y.backward()\n",
        "print(x.grad) #dy/dx"
      ],
      "metadata": {
        "colab": {
          "base_uri": "https://localhost:8080/"
        },
        "id": "YVqzCKNBhrk9",
        "outputId": "d3092666-9d72-40b4-9b68-17318e365b0e"
      },
      "execution_count": 51,
      "outputs": [
        {
          "output_type": "stream",
          "name": "stdout",
          "text": [
            "None\n",
            "tensor(0.3150)\n"
          ]
        }
      ]
    },
    {
      "cell_type": "code",
      "source": [
        "# x.grad.zero_() ---> the gradient is set to zero again\n",
        "y = 3 * torch.sigmoid(x) + 5\n",
        "y.backward()\n",
        "x.grad"
      ],
      "metadata": {
        "colab": {
          "base_uri": "https://localhost:8080/"
        },
        "id": "y9vcm6-ejYsF",
        "outputId": "d3bcd907-9778-4c02-bbbe-b76ee6a4c8c0"
      },
      "execution_count": 52,
      "outputs": [
        {
          "output_type": "execute_result",
          "data": {
            "text/plain": [
              "tensor(0.6300)"
            ]
          },
          "metadata": {},
          "execution_count": 52
        }
      ]
    },
    {
      "cell_type": "code",
      "source": [
        "a = torch.rand(2, 5, requires_grad=True)\n",
        "a # would be a leaf tensor"
      ],
      "metadata": {
        "colab": {
          "base_uri": "https://localhost:8080/"
        },
        "id": "lr3p2frFj2c1",
        "outputId": "63a90578-0d26-4220-ec27-09b90f380f50"
      },
      "execution_count": 54,
      "outputs": [
        {
          "output_type": "execute_result",
          "data": {
            "text/plain": [
              "tensor([[0.1570, 0.0249, 0.2104, 0.9306, 0.6154],\n",
              "        [0.2399, 0.7785, 0.4372, 0.5751, 0.7413]], requires_grad=True)"
            ]
          },
          "metadata": {},
          "execution_count": 54
        }
      ]
    },
    {
      "cell_type": "code",
      "source": [
        "b = a * a + a + 5\n",
        "b # would be a non leaf tensor"
      ],
      "metadata": {
        "colab": {
          "base_uri": "https://localhost:8080/"
        },
        "id": "Rn4QdD-Zj2uy",
        "outputId": "7d78369c-bfd1-4130-b583-ffee3653e18e"
      },
      "execution_count": 55,
      "outputs": [
        {
          "output_type": "execute_result",
          "data": {
            "text/plain": [
              "tensor([[5.1816, 5.0255, 5.2547, 6.7965, 5.9942],\n",
              "        [5.2974, 6.3845, 5.6284, 5.9058, 6.2907]], grad_fn=<AddBackward0>)"
            ]
          },
          "metadata": {},
          "execution_count": 55
        }
      ]
    },
    {
      "cell_type": "code",
      "source": [
        "c = b.mean()\n",
        "c"
      ],
      "metadata": {
        "colab": {
          "base_uri": "https://localhost:8080/"
        },
        "id": "dULnz5A2kR3t",
        "outputId": "68f2cd49-124f-4060-db0d-f90d90b4af79"
      },
      "execution_count": 56,
      "outputs": [
        {
          "output_type": "execute_result",
          "data": {
            "text/plain": [
              "tensor(5.7759, grad_fn=<MeanBackward0>)"
            ]
          },
          "metadata": {},
          "execution_count": 56
        }
      ]
    },
    {
      "cell_type": "code",
      "source": [
        "a.is_leaf, b.is_leaf, c.is_leaf"
      ],
      "metadata": {
        "colab": {
          "base_uri": "https://localhost:8080/"
        },
        "id": "_iuMhnXJkVjr",
        "outputId": "a59b34f2-9639-491f-df70-c1f9e66c0498"
      },
      "execution_count": 57,
      "outputs": [
        {
          "output_type": "execute_result",
          "data": {
            "text/plain": [
              "(True, False, False)"
            ]
          },
          "metadata": {},
          "execution_count": 57
        }
      ]
    },
    {
      "cell_type": "code",
      "source": [
        "b.retain_grad() # to compute gradient of b as well since it is intermediate node"
      ],
      "metadata": {
        "id": "sy0jtw8OksvS"
      },
      "execution_count": 58,
      "outputs": []
    },
    {
      "cell_type": "code",
      "source": [
        "print(a.grad) # Before gradient computation\n",
        "c.backward()\n",
        "print(a.grad) # After gradient computation #dc/da"
      ],
      "metadata": {
        "colab": {
          "base_uri": "https://localhost:8080/"
        },
        "id": "hAF94FQpkwVx",
        "outputId": "28cf637a-1eaf-4f1a-e36f-84e108850003"
      },
      "execution_count": 59,
      "outputs": [
        {
          "output_type": "stream",
          "name": "stdout",
          "text": [
            "None\n",
            "tensor([[0.1314, 0.1050, 0.1421, 0.2861, 0.2231],\n",
            "        [0.1480, 0.2557, 0.1874, 0.2150, 0.2483]])\n"
          ]
        }
      ]
    },
    {
      "cell_type": "code",
      "source": [
        "b.grad"
      ],
      "metadata": {
        "colab": {
          "base_uri": "https://localhost:8080/"
        },
        "id": "6iLjRH0mkxE1",
        "outputId": "d91f9ce8-9efd-45cf-e1f8-a572d17d0a07"
      },
      "execution_count": 60,
      "outputs": [
        {
          "output_type": "execute_result",
          "data": {
            "text/plain": [
              "tensor([[0.1000, 0.1000, 0.1000, 0.1000, 0.1000],\n",
              "        [0.1000, 0.1000, 0.1000, 0.1000, 0.1000]])"
            ]
          },
          "metadata": {},
          "execution_count": 60
        }
      ]
    },
    {
      "cell_type": "markdown",
      "source": [
        "# Gradient descent"
      ],
      "metadata": {
        "id": "QRLi4edLlhW4"
      }
    },
    {
      "cell_type": "code",
      "source": [
        "# Generate train data # y = 5 * x + 3\n",
        "x = torch.linspace(0.0,1.0,15).reshape(15,1)\n",
        "w = torch.tensor([5])\n",
        "b = torch.tensor([3])\n",
        "y = w * x + b"
      ],
      "metadata": {
        "id": "h0iyD-w1lmIh"
      },
      "execution_count": 61,
      "outputs": []
    },
    {
      "cell_type": "code",
      "source": [
        "# Parameter initialization\n",
        "w = torch.randn(size = (1,1), requires_grad = True)\n",
        "b = torch.randn(size=(1,1), requires_grad = True)\n",
        "\n",
        "def forward(x):\n",
        "  return w * x + b\n",
        "\n",
        "def loss(y, y_pred):\n",
        "  return((y_pred - y)**2).mean() # mean square error loss for linear regression\n",
        "\n",
        "print('w:',w)\n",
        "print('b:',b)"
      ],
      "metadata": {
        "colab": {
          "base_uri": "https://localhost:8080/"
        },
        "id": "Czxn9CVqmFCP",
        "outputId": "4b271274-f5aa-4539-d299-c212f412cdff"
      },
      "execution_count": 62,
      "outputs": [
        {
          "output_type": "stream",
          "name": "stdout",
          "text": [
            "w: tensor([[-2.8991]], requires_grad=True)\n",
            "b: tensor([[0.7597]], requires_grad=True)\n"
          ]
        }
      ]
    },
    {
      "cell_type": "code",
      "source": [
        "# Define hyperparameters\n",
        "\n",
        "learning_rate = 0.03\n",
        "num_epochs = 180\n",
        "\n",
        "#Train model\n",
        "for epoch in range(num_epochs):\n",
        "  y_pred = forward(x)\n",
        "\n",
        "  l = loss(y, y_pred)\n",
        "\n",
        "  l.backward()\n",
        "  # whenever we perform any action on leaf nodes it get trappedin computation graph\n",
        "  # so to prevent that we use no_grad\n",
        "  with torch.no_grad():     # Gradient descent step -> stochastic gradient descent here\n",
        "    w -= learning_rate * w.grad\n",
        "    b -= learning_rate * b.grad\n",
        "\n",
        "  w.grad.zero_()  # to prevent accumulation of gradients\n",
        "  b.grad.zero_()\n",
        "\n",
        "  if (epoch+1) % 10 == 0:\n",
        "    print(f'epoch {epoch + 1}: w = {w.item():.3f}, b = {b.item():.3f},loss = {l.item():.3f}')\n"
      ],
      "metadata": {
        "colab": {
          "base_uri": "https://localhost:8080/"
        },
        "id": "P6q_czLCnDXc",
        "outputId": "0931a2f9-12c8-4361-8ecd-c67d9af2c233"
      },
      "execution_count": 63,
      "outputs": [
        {
          "output_type": "stream",
          "name": "stdout",
          "text": [
            "epoch 10: w = -1.180, b = 3.394,loss = 12.393\n",
            "epoch 20: w = -0.287, b = 4.524,loss = 4.235\n",
            "epoch 30: w = 0.226, b = 4.977,loss = 2.418\n",
            "epoch 40: w = 0.564, b = 5.125,loss = 1.912\n",
            "epoch 50: w = 0.817, b = 5.137,loss = 1.686\n",
            "epoch 60: w = 1.027, b = 5.091,loss = 1.528\n",
            "epoch 70: w = 1.214, b = 5.021,loss = 1.394\n",
            "epoch 80: w = 1.387, b = 4.942,loss = 1.273\n",
            "epoch 90: w = 1.548, b = 4.861,loss = 1.163\n",
            "epoch 100: w = 1.702, b = 4.781,loss = 1.063\n",
            "epoch 110: w = 1.847, b = 4.703,loss = 0.971\n",
            "epoch 120: w = 1.987, b = 4.628,loss = 0.888\n",
            "epoch 130: w = 2.120, b = 4.557,loss = 0.811\n",
            "epoch 140: w = 2.247, b = 4.488,loss = 0.741\n",
            "epoch 150: w = 2.368, b = 4.423,loss = 0.677\n",
            "epoch 160: w = 2.484, b = 4.360,loss = 0.619\n",
            "epoch 170: w = 2.595, b = 4.300,loss = 0.565\n",
            "epoch 180: w = 2.701, b = 4.243,loss = 0.517\n"
          ]
        }
      ]
    },
    {
      "cell_type": "markdown",
      "source": [
        "# Neural Network"
      ],
      "metadata": {
        "id": "Egsn2acppNo4"
      }
    },
    {
      "cell_type": "code",
      "source": [
        "import torch\n",
        "import torch.nn as nn  # everthing for creating neural network is present in this module\n",
        "#import torch.nn.functional as F\n",
        "import torch.optim as optim # optimizers such as adam gradient descent\n",
        "\n",
        "from torchvision import datasets,transforms"
      ],
      "metadata": {
        "id": "uSV73CEtpREd"
      },
      "execution_count": 65,
      "outputs": []
    },
    {
      "cell_type": "code",
      "source": [
        "device = torch.device('cuda' if torch.cuda.is_available() else 'cpu')"
      ],
      "metadata": {
        "id": "fNY6IyfvphvG"
      },
      "execution_count": 66,
      "outputs": []
    },
    {
      "cell_type": "code",
      "source": [
        "print(dir(datasets))"
      ],
      "metadata": {
        "colab": {
          "base_uri": "https://localhost:8080/"
        },
        "id": "xTaWBoNXptlU",
        "outputId": "54ed11c2-2cdf-452d-fa0a-40e277db652e"
      },
      "execution_count": 67,
      "outputs": [
        {
          "output_type": "stream",
          "name": "stdout",
          "text": [
            "['CIFAR10', 'CIFAR100', 'CLEVRClassification', 'CREStereo', 'Caltech101', 'Caltech256', 'CarlaStereo', 'CelebA', 'Cityscapes', 'CocoCaptions', 'CocoDetection', 'Country211', 'DTD', 'DatasetFolder', 'EMNIST', 'ETH3DStereo', 'EuroSAT', 'FER2013', 'FGVCAircraft', 'FakeData', 'FallingThingsStereo', 'FashionMNIST', 'Flickr30k', 'Flickr8k', 'Flowers102', 'FlyingChairs', 'FlyingThings3D', 'Food101', 'GTSRB', 'HD1K', 'HMDB51', 'INaturalist', 'ImageFolder', 'ImageNet', 'Imagenette', 'InStereo2k', 'KMNIST', 'Kinetics', 'Kitti', 'Kitti2012Stereo', 'Kitti2015Stereo', 'KittiFlow', 'LFWPairs', 'LFWPeople', 'LSUN', 'LSUNClass', 'MNIST', 'Middlebury2014Stereo', 'MovingMNIST', 'Omniglot', 'OxfordIIITPet', 'PCAM', 'PhotoTour', 'Places365', 'QMNIST', 'RenderedSST2', 'SBDataset', 'SBU', 'SEMEION', 'STL10', 'SUN397', 'SVHN', 'SceneFlowStereo', 'Sintel', 'SintelStereo', 'StanfordCars', 'UCF101', 'USPS', 'VOCDetection', 'VOCSegmentation', 'VisionDataset', 'WIDERFace', '__all__', '__builtins__', '__cached__', '__doc__', '__file__', '__getattr__', '__loader__', '__name__', '__package__', '__path__', '__spec__', '_optical_flow', '_stereo_matching', 'caltech', 'celeba', 'cifar', 'cityscapes', 'clevr', 'coco', 'country211', 'dtd', 'eurosat', 'fakedata', 'fer2013', 'fgvc_aircraft', 'flickr', 'flowers102', 'folder', 'food101', 'gtsrb', 'hmdb51', 'imagenet', 'imagenette', 'inaturalist', 'kinetics', 'kitti', 'lfw', 'lsun', 'mnist', 'moving_mnist', 'omniglot', 'oxford_iiit_pet', 'pcam', 'phototour', 'places365', 'rendered_sst2', 'sbd', 'sbu', 'semeion', 'stanford_cars', 'stl10', 'sun397', 'svhn', 'ucf101', 'usps', 'utils', 'video_utils', 'vision', 'voc', 'widerface']\n"
          ]
        }
      ]
    },
    {
      "cell_type": "code",
      "source": [
        "# Hyper-parameters\n",
        "hidden_size = 400  #no of neurons present in hidden layer\n",
        "num_epochs = 8\n",
        "batch_size = 32\n",
        "learning_rate = 0.0001"
      ],
      "metadata": {
        "id": "UD9B9DTXqLXl"
      },
      "execution_count": 68,
      "outputs": []
    },
    {
      "cell_type": "code",
      "source": [
        "# Load the MNIST dataset\n",
        "train_dataset = datasets.MNIST(root='./data', train=True, download=True, transform=transforms.ToTensor())\n",
        "test_dataset = datasets.MNIST(root='./data', train=False, download=True, transform=transforms.ToTensor())"
      ],
      "metadata": {
        "id": "pk9kCejjqYUw"
      },
      "execution_count": 73,
      "outputs": []
    },
    {
      "cell_type": "code",
      "source": [
        "# Training data\n",
        "print(train_dataset.classes)\n",
        "print(train_dataset.data.shape)\n",
        "print(train_dataset.targets.shape)"
      ],
      "metadata": {
        "colab": {
          "base_uri": "https://localhost:8080/"
        },
        "id": "Pm0RsOvir5w7",
        "outputId": "2b5a6f4d-abb5-4138-8b81-90b76bb35892"
      },
      "execution_count": 74,
      "outputs": [
        {
          "output_type": "stream",
          "name": "stdout",
          "text": [
            "['0 - zero', '1 - one', '2 - two', '3 - three', '4 - four', '5 - five', '6 - six', '7 - seven', '8 - eight', '9 - nine']\n",
            "torch.Size([60000, 28, 28])\n",
            "torch.Size([60000])\n"
          ]
        }
      ]
    },
    {
      "cell_type": "code",
      "source": [
        "# Test data\n",
        "print(test_dataset.classes)\n",
        "print(test_dataset.data.shape)\n",
        "print(test_dataset.targets.shape)"
      ],
      "metadata": {
        "colab": {
          "base_uri": "https://localhost:8080/"
        },
        "id": "mvJ6z9KZsU_Y",
        "outputId": "228c84b0-1a66-4d5c-c141-6546526355e9"
      },
      "execution_count": 75,
      "outputs": [
        {
          "output_type": "stream",
          "name": "stdout",
          "text": [
            "['0 - zero', '1 - one', '2 - two', '3 - three', '4 - four', '5 - five', '6 - six', '7 - seven', '8 - eight', '9 - nine']\n",
            "torch.Size([10000, 28, 28])\n",
            "torch.Size([10000])\n"
          ]
        }
      ]
    },
    {
      "cell_type": "code",
      "source": [
        "in_features = 784 # Input size - 28 X 28\n",
        "out_features = 10 # no. of classes"
      ],
      "metadata": {
        "id": "X_efD-k4sigf"
      },
      "execution_count": 76,
      "outputs": []
    },
    {
      "cell_type": "code",
      "source": [
        "train_dataloader = torch.utils.data.DataLoader(dataset = train_dataset, batch_size = batch_size, shuffle= True)\n",
        "test_dataloader = torch.utils.data.DataLoader(dataset = test_dataset, batch_size = batch_size, shuffle= False)"
      ],
      "metadata": {
        "id": "uuNpUBk_sxen"
      },
      "execution_count": 77,
      "outputs": []
    },
    {
      "cell_type": "code",
      "source": [
        "import matplotlib.pyplot as plt\n",
        "\n",
        "data = iter(train_dataloader)\n",
        "imgs,labels = next(data)\n",
        "print(imgs.shape)\n",
        "print(labels.shape)\n",
        "\n",
        "for i in range(5):\n",
        "  plt.subplot(1,5,i+1)\n",
        "  plt.imshow(imgs[i][0], cmap='gray')\n",
        "  plt.xlabel(f'Label = {labels[i].item()}')\n",
        "plt.show()"
      ],
      "metadata": {
        "colab": {
          "base_uri": "https://localhost:8080/",
          "height": 204
        },
        "id": "XUptLmCSsv2o",
        "outputId": "3f62c961-fb02-4319-b339-d5382d6b0f73"
      },
      "execution_count": 78,
      "outputs": [
        {
          "output_type": "stream",
          "name": "stdout",
          "text": [
            "torch.Size([32, 1, 28, 28])\n",
            "torch.Size([32])\n"
          ]
        },
        {
          "output_type": "display_data",
          "data": {
            "text/plain": [
              "<Figure size 640x480 with 5 Axes>"
            ],
            "image/png": "[encoded data removed]"
          },
          "metadata": {}
        }
      ]
    },
    {
      "cell_type": "code",
      "source": [
        "class BasicNeuralNet(nn.Module):\n",
        "  def __init__(self, hidden_size):\n",
        "    super(BasicNeuralNet, self).__init__()\n",
        "    self.hidden_size = hidden_size\n",
        "    self.layer1 = nn.Linear(in_features, self.hidden_size)\n",
        "    self.layer2 = nn.Linear(self.hidden_size,out_features)\n",
        "\n",
        "  def forward(self, x):\n",
        "      out = self.layer1(x)\n",
        "      out = torch.relu(out)\n",
        "      out = self.layer2(out)\n",
        "      return out\n",
        "\n",
        "model = BasicNeuralNet(hidden_size).to(device)"
      ],
      "metadata": {
        "id": "PlyF22hRswGs"
      },
      "execution_count": 87,
      "outputs": []
    },
    {
      "cell_type": "code",
      "source": [
        "w1,b1,w2,b2 = list(model.parameters())"
      ],
      "metadata": {
        "id": "I6lK8XRYvJki"
      },
      "execution_count": 88,
      "outputs": []
    },
    {
      "cell_type": "code",
      "source": [
        "# Fiest linear layer\n",
        "print(w1,b1)\n",
        "print(w1.shape)\n",
        "print(b1.shape)"
      ],
      "metadata": {
        "colab": {
          "base_uri": "https://localhost:8080/"
        },
        "collapsed": true,
        "id": "o63AkvX-v0Hj",
        "outputId": "78bdce65-6437-4c2c-f990-0c1a9fd15e96"
      },
      "execution_count": 89,
      "outputs": [
        {
          "output_type": "stream",
          "name": "stdout",
          "text": [
            "Parameter containing:\n",
            "tensor([[-0.0184,  0.0292,  0.0313,  ...,  0.0305, -0.0173,  0.0126],\n",
            "        [ 0.0072, -0.0083,  0.0338,  ...,  0.0240,  0.0147, -0.0199],\n",
            "        [-0.0218, -0.0199, -0.0170,  ...,  0.0055,  0.0027, -0.0005],\n",
            "        ...,\n",
            "        [ 0.0051,  0.0053,  0.0063,  ...,  0.0176, -0.0188, -0.0019],\n",
            "        [-0.0188, -0.0047,  0.0038,  ...,  0.0340,  0.0200, -0.0159],\n",
            "        [-0.0238,  0.0041,  0.0238,  ..., -0.0357, -0.0241,  0.0022]],\n",
            "       requires_grad=True) Parameter containing:\n",
            "tensor([ 1.9135e-02, -8.8352e-03, -2.9237e-02,  3.4099e-02,  1.2677e-02,\n",
            "        -2.2133e-03,  1.8307e-02, -1.2814e-02,  5.8302e-03, -8.2051e-03,\n",
            "         2.8951e-02, -2.0967e-02, -1.5621e-02, -1.4481e-03,  2.1600e-02,\n",
            "        -2.4440e-02,  2.6950e-02,  2.2772e-02, -1.3691e-02, -7.8997e-04,\n",
            "        -2.0512e-02,  8.6096e-03, -2.7940e-02, -2.3874e-02,  1.5354e-02,\n",
            "         3.1384e-02, -2.4731e-02, -1.5976e-02, -1.5044e-02,  7.9854e-03,\n",
            "        -1.5143e-02,  1.4092e-02, -2.5760e-02, -2.0819e-02,  1.8857e-02,\n",
            "        -2.5563e-02,  3.4953e-02, -8.5910e-03,  2.2145e-02,  3.2307e-02,\n",
            "         1.5275e-02, -9.5542e-03,  2.0273e-02,  5.1297e-03, -2.9125e-03,\n",
            "         7.1025e-04, -9.3749e-03,  1.4595e-02,  1.3967e-03, -2.0005e-02,\n",
            "        -2.7556e-02, -4.7196e-03, -2.3448e-02, -2.9993e-02,  1.7746e-02,\n",
            "        -2.8409e-02,  2.8801e-02,  2.4754e-02,  1.8704e-02,  2.0462e-02,\n",
            "         2.5046e-02,  2.2954e-02, -1.8717e-02,  1.0455e-03,  1.5382e-02,\n",
            "        -1.1088e-02,  1.0288e-02,  2.2520e-02,  2.1970e-02, -1.1057e-02,\n",
            "        -3.0201e-02,  2.4798e-02,  1.6843e-02, -5.9953e-03, -2.2068e-02,\n",
            "         1.2557e-02, -9.1651e-03, -2.1020e-03,  2.2908e-02,  1.2687e-02,\n",
            "        -3.4931e-02,  1.9107e-02,  6.4618e-03,  3.6517e-03, -1.2706e-02,\n",
            "         7.2704e-03,  3.4106e-02, -1.0562e-02, -2.4133e-02, -1.6460e-02,\n",
            "        -2.2291e-02, -2.0309e-02, -2.7362e-02, -1.9138e-02,  2.9736e-02,\n",
            "         5.6646e-03,  1.1094e-02, -1.6371e-02, -8.5798e-03,  7.9596e-03,\n",
            "        -1.5247e-02,  2.5902e-04,  1.6016e-02, -2.2188e-02,  3.2164e-02,\n",
            "        -8.0893e-03,  2.5644e-02,  1.6539e-02,  2.4716e-02, -1.7118e-02,\n",
            "         3.5639e-02, -1.2646e-04,  2.2427e-02,  1.3449e-02, -3.1519e-02,\n",
            "         3.6948e-03,  1.6226e-03, -3.5051e-02,  1.2011e-03,  2.5046e-02,\n",
            "         2.5404e-02, -7.8529e-03,  2.5169e-02, -1.5262e-02,  6.7395e-03,\n",
            "        -1.8578e-02,  1.9749e-02, -8.7040e-03, -9.6296e-03, -1.7970e-02,\n",
            "        -1.0086e-02,  2.1868e-03,  2.5670e-02,  3.3036e-02,  2.9295e-02,\n",
            "        -3.5534e-02, -2.3746e-02, -3.2003e-02, -1.0936e-02, -2.9248e-02,\n",
            "         2.0597e-02,  3.3038e-02, -3.3591e-02,  2.8113e-02, -3.2265e-02,\n",
            "        -3.3528e-02, -2.7134e-02, -2.7382e-02,  1.9949e-02,  9.7371e-03,\n",
            "        -1.3993e-02,  1.5461e-02,  1.5262e-02, -3.5611e-03,  9.1829e-03,\n",
            "         2.0077e-02,  2.7404e-02,  3.2777e-02,  1.9979e-02, -3.1910e-02,\n",
            "         4.9904e-03, -3.1889e-02, -2.4902e-02,  3.0914e-02, -2.2378e-02,\n",
            "        -2.2017e-02, -2.9915e-03, -2.3186e-02,  1.7930e-02, -4.2941e-05,\n",
            "        -2.1566e-02, -5.2411e-03,  7.2481e-03, -3.4816e-02,  1.7086e-03,\n",
            "        -8.2910e-03,  4.2734e-03,  3.1802e-02, -2.2517e-02, -2.9759e-02,\n",
            "        -1.9487e-02,  2.7974e-02, -3.4079e-02, -4.9412e-03, -2.5594e-02,\n",
            "         4.4265e-03, -3.5107e-02,  3.3058e-02,  5.2048e-03,  2.8554e-02,\n",
            "        -2.8561e-02,  8.3685e-03, -2.8536e-02,  1.5692e-02, -2.2445e-02,\n",
            "        -1.5973e-02, -3.4548e-02,  3.9435e-03, -2.0992e-02,  1.8734e-03,\n",
            "        -3.1062e-03,  2.8361e-02, -1.2963e-02,  3.3205e-03,  2.8428e-02,\n",
            "        -3.2597e-03,  7.3783e-03, -1.3306e-02,  2.7371e-02,  2.1830e-02,\n",
            "        -4.0134e-03,  1.6477e-02,  1.3408e-02,  9.8028e-03,  1.6771e-02,\n",
            "         3.1807e-02, -2.4519e-02, -1.8018e-02, -2.4753e-02, -2.8781e-02,\n",
            "        -1.2095e-02, -1.5896e-02, -3.3835e-02,  2.3898e-02,  2.1452e-02,\n",
            "        -9.4299e-03, -2.1478e-02, -1.0644e-02,  4.2157e-03, -5.3273e-03,\n",
            "        -1.7164e-02,  3.0554e-03, -1.7014e-02,  2.2337e-02,  1.3077e-02,\n",
            "         6.4970e-03,  1.8863e-02, -3.0897e-02, -5.1315e-03, -3.3069e-02,\n",
            "         7.2165e-03,  1.8796e-02, -2.5847e-02, -1.1241e-02,  1.7291e-02,\n",
            "         1.4941e-02, -1.1383e-02, -1.3201e-02,  1.8849e-02, -6.7515e-03,\n",
            "         2.0303e-02,  8.5360e-03, -6.7875e-03,  2.6303e-02,  1.0419e-02,\n",
            "        -1.1469e-03,  3.0685e-02,  9.5542e-03, -2.5453e-02,  2.5781e-02,\n",
            "        -5.3849e-03, -1.3333e-02, -1.9731e-03,  2.6019e-02, -1.6134e-02,\n",
            "         3.4676e-02,  6.1433e-03, -3.1697e-02, -3.1598e-02,  1.8108e-02,\n",
            "        -1.9050e-02,  2.9970e-02,  2.3691e-02, -1.1888e-02,  1.6758e-04,\n",
            "         2.0702e-02,  2.9743e-02,  1.6374e-02, -1.3703e-02, -2.7691e-02,\n",
            "         2.2697e-02,  1.8415e-02,  3.5417e-02,  1.2108e-03,  1.9719e-02,\n",
            "         4.5707e-03,  2.9485e-02,  2.0160e-02, -2.6533e-02,  1.0137e-02,\n",
            "        -6.9698e-03,  2.1480e-02, -2.0613e-02,  2.3314e-02,  3.0235e-02,\n",
            "         3.9218e-03, -9.7123e-03,  7.0662e-03,  6.0198e-03,  2.2049e-02,\n",
            "         5.6807e-03,  3.4509e-02,  3.3764e-03,  3.2615e-02, -7.4920e-04,\n",
            "         2.3441e-02, -1.3340e-02, -3.4304e-03, -1.9350e-02,  3.5108e-02,\n",
            "        -7.8744e-03,  1.8402e-02,  3.2020e-02, -1.7295e-02,  3.3475e-02,\n",
            "        -1.5749e-02,  1.2919e-02, -2.1830e-02,  1.2792e-02,  2.6657e-02,\n",
            "        -7.1597e-03,  1.4177e-03,  1.0598e-02,  3.2187e-02, -2.4497e-02,\n",
            "        -1.0150e-03,  2.5555e-02, -1.5854e-02,  1.1746e-02,  1.8028e-02,\n",
            "         1.7211e-02,  2.1972e-03, -2.9327e-02, -1.5812e-02, -1.0369e-02,\n",
            "         2.9629e-02,  2.9745e-03, -1.5661e-02, -4.4738e-03,  2.9413e-02,\n",
            "         1.8635e-02, -2.3312e-02, -2.3148e-02,  1.5340e-02,  1.8498e-02,\n",
            "         1.0463e-02, -1.2817e-02,  3.3569e-03, -1.2564e-02,  2.3332e-03,\n",
            "        -2.2767e-02, -3.5176e-02, -1.3529e-02, -1.7847e-02,  9.9057e-03,\n",
            "         1.7978e-03, -3.5527e-02, -2.9617e-02,  3.5159e-02,  4.7131e-04,\n",
            "         9.7948e-03, -3.5202e-02, -2.0294e-02,  2.3541e-04,  2.3226e-02,\n",
            "         3.3070e-02,  9.5984e-03,  2.2139e-03, -2.5235e-02,  1.3678e-02,\n",
            "        -1.9703e-03,  1.4284e-02, -1.0055e-02, -6.3518e-03, -8.3901e-03,\n",
            "        -2.0921e-02, -1.5729e-02,  1.7829e-02, -3.1639e-02,  1.5547e-02,\n",
            "         2.6428e-02, -3.2598e-02,  3.5610e-02,  1.0531e-02, -1.0480e-02,\n",
            "         3.2075e-03,  2.0825e-02,  8.5438e-03,  1.4213e-02, -1.3046e-02,\n",
            "         2.9430e-02, -1.2617e-02,  2.3036e-02,  2.9854e-02,  5.7272e-03,\n",
            "        -3.3804e-03, -1.5644e-03, -1.2669e-02,  1.5588e-02, -2.4696e-02],\n",
            "       requires_grad=True)\n",
            "torch.Size([400, 784])\n",
            "torch.Size([400])\n"
          ]
        }
      ]
    },
    {
      "cell_type": "code",
      "source": [
        "# Second linear layer\n",
        "print(w2,b2)\n",
        "print(w2.shape)\n",
        "print(b2.shape)"
      ],
      "metadata": {
        "colab": {
          "base_uri": "https://localhost:8080/"
        },
        "id": "kbcweFVRwIqz",
        "outputId": "3d029ee8-4c0b-4b3c-e2e1-ad141bc95baa"
      },
      "execution_count": 84,
      "outputs": [
        {
          "output_type": "stream",
          "name": "stdout",
          "text": [
            "Parameter containing:\n",
            "tensor([[-0.0442,  0.0231, -0.0187,  ...,  0.0300,  0.0319,  0.0310],\n",
            "        [-0.0187, -0.0370,  0.0010,  ...,  0.0088,  0.0153, -0.0461],\n",
            "        [ 0.0488,  0.0269,  0.0223,  ..., -0.0068, -0.0107, -0.0386],\n",
            "        ...,\n",
            "        [-0.0167, -0.0035, -0.0276,  ..., -0.0300, -0.0390, -0.0133],\n",
            "        [ 0.0258, -0.0256,  0.0038,  ..., -0.0137, -0.0046,  0.0124],\n",
            "        [-0.0002, -0.0329,  0.0253,  ..., -0.0054,  0.0202,  0.0224]],\n",
            "       requires_grad=True) Parameter containing:\n",
            "tensor([-0.0059, -0.0058,  0.0258, -0.0256, -0.0453,  0.0092,  0.0029,  0.0493,\n",
            "         0.0126, -0.0227], requires_grad=True)\n",
            "torch.Size([10, 400])\n",
            "torch.Size([10])\n"
          ]
        }
      ]
    },
    {
      "cell_type": "code",
      "source": [
        "criterion = nn.CrossEntropyLoss() # Loss\n",
        "optimizer = optim.Adam(model.parameters(), lr = learning_rate)"
      ],
      "metadata": {
        "id": "oLFQFPa2wTEj"
      },
      "execution_count": 90,
      "outputs": []
    },
    {
      "cell_type": "code",
      "source": [
        "# Training\n",
        "total_steps = len(train_dataloader)\n",
        "for epoch in range(num_epochs):\n",
        "  for i, (images,labels) in enumerate(train_dataloader):\n",
        "    images = images.reshape(-1, 28*28).to(device)\n",
        "    labels = labels.to(device)\n",
        "\n",
        "    #Forward pass\n",
        "    outputs = model(images)\n",
        "\n",
        "    loss = criterion(outputs, labels)\n",
        "\n",
        "    #Backpropagation\n",
        "    loss.backward()\n",
        "\n",
        "    optimizer.step() # Parameter update\n",
        "    optimizer.zero_grad()\n",
        "\n",
        "    if i % 300 == 0:\n",
        "      print(f'Epoch {epoch}, Step {i}/{total_steps}, Loss: {loss.item():.3f}')"
      ],
      "metadata": {
        "colab": {
          "base_uri": "https://localhost:8080/"
        },
        "id": "ULiuh-QjwgMg",
        "outputId": "d772dba9-af88-46c2-c499-3f00069be8b0"
      },
      "execution_count": 91,
      "outputs": [
        {
          "output_type": "stream",
          "name": "stdout",
          "text": [
            "Epoch 0, Step 0/1875, Loss: 2.310\n",
            "Epoch 0, Step 300/1875, Loss: 0.550\n",
            "Epoch 0, Step 600/1875, Loss: 0.548\n",
            "Epoch 0, Step 900/1875, Loss: 0.471\n",
            "Epoch 0, Step 1200/1875, Loss: 0.405\n",
            "Epoch 0, Step 1500/1875, Loss: 0.423\n",
            "Epoch 0, Step 1800/1875, Loss: 0.202\n",
            "Epoch 1, Step 0/1875, Loss: 0.172\n",
            "Epoch 1, Step 300/1875, Loss: 0.393\n",
            "Epoch 1, Step 600/1875, Loss: 0.257\n",
            "Epoch 1, Step 900/1875, Loss: 0.341\n",
            "Epoch 1, Step 1200/1875, Loss: 0.598\n",
            "Epoch 1, Step 1500/1875, Loss: 0.586\n",
            "Epoch 1, Step 1800/1875, Loss: 0.062\n",
            "Epoch 2, Step 0/1875, Loss: 0.131\n",
            "Epoch 2, Step 300/1875, Loss: 0.082\n",
            "Epoch 2, Step 600/1875, Loss: 0.205\n",
            "Epoch 2, Step 900/1875, Loss: 0.124\n",
            "Epoch 2, Step 1200/1875, Loss: 0.274\n",
            "Epoch 2, Step 1500/1875, Loss: 0.315\n",
            "Epoch 2, Step 1800/1875, Loss: 0.120\n",
            "Epoch 3, Step 0/1875, Loss: 0.074\n",
            "Epoch 3, Step 300/1875, Loss: 0.102\n",
            "Epoch 3, Step 600/1875, Loss: 0.284\n",
            "Epoch 3, Step 900/1875, Loss: 0.414\n",
            "Epoch 3, Step 1200/1875, Loss: 0.170\n",
            "Epoch 3, Step 1500/1875, Loss: 0.333\n",
            "Epoch 3, Step 1800/1875, Loss: 0.124\n",
            "Epoch 4, Step 0/1875, Loss: 0.142\n",
            "Epoch 4, Step 300/1875, Loss: 0.174\n",
            "Epoch 4, Step 600/1875, Loss: 0.198\n",
            "Epoch 4, Step 900/1875, Loss: 0.101\n",
            "Epoch 4, Step 1200/1875, Loss: 0.099\n",
            "Epoch 4, Step 1500/1875, Loss: 0.189\n",
            "Epoch 4, Step 1800/1875, Loss: 0.088\n",
            "Epoch 5, Step 0/1875, Loss: 0.046\n",
            "Epoch 5, Step 300/1875, Loss: 0.073\n",
            "Epoch 5, Step 600/1875, Loss: 0.125\n",
            "Epoch 5, Step 900/1875, Loss: 0.178\n",
            "Epoch 5, Step 1200/1875, Loss: 0.165\n",
            "Epoch 5, Step 1500/1875, Loss: 0.044\n",
            "Epoch 5, Step 1800/1875, Loss: 0.253\n",
            "Epoch 6, Step 0/1875, Loss: 0.146\n",
            "Epoch 6, Step 300/1875, Loss: 0.154\n",
            "Epoch 6, Step 600/1875, Loss: 0.109\n",
            "Epoch 6, Step 900/1875, Loss: 0.058\n",
            "Epoch 6, Step 1200/1875, Loss: 0.088\n",
            "Epoch 6, Step 1500/1875, Loss: 0.063\n",
            "Epoch 6, Step 1800/1875, Loss: 0.067\n",
            "Epoch 7, Step 0/1875, Loss: 0.040\n",
            "Epoch 7, Step 300/1875, Loss: 0.171\n",
            "Epoch 7, Step 600/1875, Loss: 0.111\n",
            "Epoch 7, Step 900/1875, Loss: 0.026\n",
            "Epoch 7, Step 1200/1875, Loss: 0.046\n",
            "Epoch 7, Step 1500/1875, Loss: 0.159\n",
            "Epoch 7, Step 1800/1875, Loss: 0.188\n"
          ]
        }
      ]
    },
    {
      "cell_type": "code",
      "source": [
        "# Test the model\n",
        "with torch.no_grad():\n",
        "  correct = 0\n",
        "  num_samples = len(test_dataloader.dataset)\n",
        "\n",
        "  for imgs, labels in test_dataloader:\n",
        "    imgs = imgs.reshape(-1,28*28).to(device)\n",
        "    labels = labels.to(device)\n",
        "\n",
        "    outputs = model(imgs)\n",
        "\n",
        "    _, predicted = torch.max(outputs, 1)\n",
        "    correct += (predicted == labels).sum().item()\n",
        "\n",
        "  acc = correct / num_samples\n",
        "  print(f'Accuracy: {100*acc} %')"
      ],
      "metadata": {
        "colab": {
          "base_uri": "https://localhost:8080/"
        },
        "id": "vk8nk6cgySb7",
        "outputId": "98ecf8c4-4878-4c95-d39b-8977d71344b5"
      },
      "execution_count": 92,
      "outputs": [
        {
          "output_type": "stream",
          "name": "stdout",
          "text": [
            "Accuracy: 97.00999999999999 %\n"
          ]
        }
      ]
    }
  ]
}